{
 "cells": [
  {
   "cell_type": "code",
   "execution_count": 18,
   "metadata": {
    "collapsed": true,
    "pycharm": {
     "name": "#%%\n"
    }
   },
   "outputs": [],
   "source": [
    "import argparse\n",
    "from tqdm import tqdm\n",
    "from math import ceil\n",
    "\n",
    "import torch\n",
    "import torch.nn.functional as F\n",
    "from torch_geometric.data import DenseDataLoader\n",
    "import torch_geometric.transforms as T\n",
    "from torch_geometric.nn import DenseSAGEConv, dense_diff_pool\n",
    "from torch.utils.data import random_split\n",
    "\n",
    "from utils.data_loader import *\n",
    "from utils.eval_helper import *\n",
    "import matplotlib.pyplot as plt"
   ]
  },
  {
   "cell_type": "markdown",
   "source": [
    "Paper: Graph Neural Networks with Continual Learning for Fake News Detection from Social Media\n",
    "Link: https://arxiv.org/pdf/2007.03316.pdf"
   ],
   "metadata": {
    "collapsed": false,
    "pycharm": {
     "name": "#%% md\n"
    }
   }
  },
  {
   "cell_type": "code",
   "execution_count": 81,
   "outputs": [],
   "source": [
    "seed= torch.manual_seed(42)\n",
    "dataset = 'politifact'\n",
    "batch_size = 64\n",
    "lr = 0.001\n",
    "epochs = 30\n",
    "feature= 'spacy'\n",
    "device = 'cuda' if torch.cuda.is_available() else 'cpu'"
   ],
   "metadata": {
    "collapsed": false,
    "pycharm": {
     "name": "#%%\n"
    }
   }
  },
  {
   "cell_type": "code",
   "execution_count": 82,
   "outputs": [],
   "source": [
    "if torch.cuda.is_available():\n",
    "\ttorch.cuda.manual_seed(seed)"
   ],
   "metadata": {
    "collapsed": false,
    "pycharm": {
     "name": "#%%\n"
    }
   }
  },
  {
   "cell_type": "code",
   "execution_count": 83,
   "outputs": [],
   "source": [
    "if dataset == 'politifact':\n",
    "\tmax_nodes = 500\n",
    "else:\n",
    "\tmax_nodes = 200\n",
    "\n",
    "\n",
    "dataset = FNNDataset(root='data', feature=feature, empty=False, name=dataset,\n",
    "\t\t\t\t\t transform=T.ToDense(max_nodes), pre_transform=ToUndirected())"
   ],
   "metadata": {
    "collapsed": false,
    "pycharm": {
     "name": "#%%\n"
    }
   }
  },
  {
   "cell_type": "code",
   "execution_count": 84,
   "outputs": [
    {
     "name": "stdout",
     "output_type": "stream",
     "text": [
      "Training samples:  219\n",
      "Validation samples:  47\n",
      "Test samples:  48\n"
     ]
    }
   ],
   "source": [
    "num_training = int(len(dataset) * 0.7)\n",
    "print(\"Training samples: \", num_training)\n",
    "\n",
    "num_val = int(len(dataset) * 0.15)\n",
    "num_test = len(dataset) - (num_training + num_val)\n",
    "print(\"Validation samples: \", num_val)\n",
    "print(\"Test samples: \", num_test)\n",
    "training_set, validation_set, test_set = random_split(dataset, [num_training, num_val, num_test])\n"
   ],
   "metadata": {
    "collapsed": false,
    "pycharm": {
     "name": "#%%\n"
    }
   }
  },
  {
   "cell_type": "code",
   "execution_count": 85,
   "outputs": [],
   "source": [
    "class GNN(torch.nn.Module):\n",
    "\tdef __init__(self, in_channels, hidden_channels, out_channels,\n",
    "\t\t\t\t normalize=False, lin=True):\n",
    "\t\tsuper(GNN, self).__init__()\n",
    "\t\tself.conv1 = DenseSAGEConv(in_channels, hidden_channels, normalize)\n",
    "\t\tself.bn1 = torch.nn.BatchNorm1d(hidden_channels)\n",
    "\t\tself.conv2 = DenseSAGEConv(hidden_channels, hidden_channels, normalize)\n",
    "\t\tself.bn2 = torch.nn.BatchNorm1d(hidden_channels)\n",
    "\t\tself.conv3 = DenseSAGEConv(hidden_channels, out_channels, normalize)\n",
    "\t\tself.bn3 = torch.nn.BatchNorm1d(out_channels)\n",
    "\n",
    "\t\tif lin is True:\n",
    "\t\t\tself.lin = torch.nn.Linear(2 * hidden_channels + out_channels,\n",
    "\t\t\t\t\t\t\t\t\t   out_channels)\n",
    "\t\telse:\n",
    "\t\t\tself.lin = None\n",
    "\n",
    "\tdef bn(self, i, x):\n",
    "\t\tbatch_size, num_nodes, num_channels = x.size()\n",
    "\n",
    "\t\tx = x.view(-1, num_channels)\n",
    "\t\tx = getattr(self, 'bn{}'.format(i))(x)\n",
    "\t\tx = x.view(batch_size, num_nodes, num_channels)\n",
    "\t\treturn x\n",
    "\n",
    "\tdef forward(self, x, adj, mask=None):\n",
    "\t\tbatch_size, num_nodes, in_channels = x.size()\n",
    "\n",
    "\t\tx0 = x\n",
    "\t\tx1 = self.bn(1, F.relu(self.conv1(x0, adj, mask)))\n",
    "\t\tx2 = self.bn(2, F.relu(self.conv2(x1, adj, mask)))\n",
    "\t\tx3 = self.bn(3, F.relu(self.conv3(x2, adj, mask)))\n",
    "\n",
    "\t\tx = torch.cat([x1, x2, x3], dim=-1)\n",
    "\n",
    "\t\tif self.lin is not None:\n",
    "\t\t\tx = F.relu(self.lin(x))\n",
    "\n",
    "\t\treturn x\n",
    "\n",
    "\n",
    "class Net(torch.nn.Module):\n",
    "\tdef __init__(self, in_channels=3, num_classes=6):\n",
    "\t\tsuper(Net, self).__init__()\n",
    "\n",
    "\t\tnum_nodes = ceil(0.25 * max_nodes)\n",
    "\t\tself.gnn1_pool = GNN(in_channels, 64, num_nodes)\n",
    "\t\tself.gnn1_embed = GNN(in_channels, 64, 64, lin=False)\n",
    "\n",
    "\t\tnum_nodes = ceil(0.25 * num_nodes)\n",
    "\t\tself.gnn2_pool = GNN(3 * 64, 64, num_nodes)\n",
    "\t\tself.gnn2_embed = GNN(3 * 64, 64, 64, lin=False)\n",
    "\n",
    "\t\tself.gnn3_embed = GNN(3 * 64, 64, 64, lin=False)\n",
    "\n",
    "\t\tself.lin1 = torch.nn.Linear(3 * 64, 64)\n",
    "\t\tself.lin2 = torch.nn.Linear(64, num_classes)\n",
    "\n",
    "\tdef forward(self, x, adj, mask=None):\n",
    "\t\ts = self.gnn1_pool(x, adj, mask)\n",
    "\t\tx = self.gnn1_embed(x, adj, mask)\n",
    "\n",
    "\t\tx, adj, l1, e1 = dense_diff_pool(x, adj, s, mask)\n",
    "\n",
    "\t\ts = self.gnn2_pool(x, adj)\n",
    "\t\tx = self.gnn2_embed(x, adj)\n",
    "\n",
    "\t\tx, adj, l2, e2 = dense_diff_pool(x, adj, s)\n",
    "\n",
    "\t\tx = self.gnn3_embed(x, adj)\n",
    "\n",
    "\t\tx = x.mean(dim=1)\n",
    "\t\tx = F.relu(self.lin1(x))\n",
    "\t\tx = self.lin2(x)\n",
    "\t\treturn F.log_softmax(x, dim=-1), l1 + l2, e1 + e2"
   ],
   "metadata": {
    "collapsed": false,
    "pycharm": {
     "name": "#%%\n"
    }
   }
  },
  {
   "cell_type": "code",
   "execution_count": 86,
   "outputs": [
    {
     "name": "stderr",
     "output_type": "stream",
     "text": [
      "/Users/nadira/miniconda3/envs/GNN-FakeNews/lib/python3.10/site-packages/torch_geometric/deprecation.py:26: UserWarning: 'data.DenseDataLoader' is deprecated, use 'loader.DenseDataLoader' instead\n",
      "  warnings.warn(out)\n"
     ]
    }
   ],
   "source": [
    "train_loader = DenseDataLoader(training_set, batch_size=batch_size, shuffle=True)\n",
    "val_loader = DenseDataLoader(validation_set, batch_size=batch_size, shuffle=True)\n",
    "test_loader = DenseDataLoader(test_set, batch_size=batch_size, shuffle=True)"
   ],
   "metadata": {
    "collapsed": false,
    "pycharm": {
     "name": "#%%\n"
    }
   }
  },
  {
   "cell_type": "code",
   "execution_count": 87,
   "outputs": [],
   "source": [
    "def train():\n",
    "\tmodel.train()\n",
    "\tloss_all = 0\n",
    "\tout_log = []\n",
    "\tfor batch, data in enumerate(train_loader):\n",
    "\t\tdata = data.to(device)\n",
    "\t\toptimizer.zero_grad()\n",
    "\t\tout, _, _ = model(data.x, data.adj, data.mask)\n",
    "\t\tout_log.append([F.softmax(out, dim=1), data.y])\n",
    "\t\tloss = F.nll_loss(out, data.y.view(-1))\n",
    "\t\tloss.backward()\n",
    "\t\tloss_all += data.y.size(0) * loss.item()\n",
    "\t\toptimizer.step()\n",
    "\treturn eval_deep(out_log, train_loader), loss_all / len(train_loader.dataset)"
   ],
   "metadata": {
    "collapsed": false,
    "pycharm": {
     "name": "#%%\n"
    }
   }
  },
  {
   "cell_type": "code",
   "execution_count": 88,
   "outputs": [],
   "source": [
    "def test(loader):\n",
    "\tmodel.eval()\n",
    "\n",
    "\tloss_test = 0\n",
    "\tout_log = []\n",
    "\twith torch.no_grad():\n",
    "\t\tfor data in loader:\n",
    "\t\t\tdata = data.to(device)\n",
    "\t\t\tout, _, _ = model(data.x, data.adj, data.mask)\n",
    "\t\t\tout_log.append([F.softmax(out, dim=1), data.y])\n",
    "\t\t\tloss_test += data.y.size(0) * F.nll_loss(out, data.y.view(-1)).item()\n",
    "\n",
    "\treturn eval_deep(out_log, loader), loss_test/len(loader.dataset)\n"
   ],
   "metadata": {
    "collapsed": false,
    "pycharm": {
     "name": "#%%\n"
    }
   }
  },
  {
   "cell_type": "code",
   "execution_count": 89,
   "outputs": [],
   "source": [
    "model = Net(in_channels=dataset.num_features, num_classes=dataset.num_classes).to(device)\n",
    "optimizer = torch.optim.Adam(model.parameters(), lr=lr)"
   ],
   "metadata": {
    "collapsed": false,
    "pycharm": {
     "name": "#%%\n"
    }
   }
  },
  {
   "cell_type": "code",
   "execution_count": 90,
   "outputs": [
    {
     "name": "stderr",
     "output_type": "stream",
     "text": [
      "100%|██████████| 30/30 [01:07<00:00,  2.26s/it]\n"
     ]
    },
    {
     "name": "stdout",
     "output_type": "stream",
     "text": [
      "Test set results: acc: 0.8542, f1_macro: 0.8526, f1_micro: 0.8542, precision: 1.0000, recall: 0.7200, auc: 0.9200, ap: 0.9452\n"
     ]
    }
   ],
   "source": [
    "loss_array = []\n",
    "train_loss = []\n",
    "for epoch in tqdm(range(epochs)):\n",
    "\t[acc_train, _, _, _, recall_train, auc_train, _], loss_train = train()\n",
    "\ttrain_loss.append(loss_train)\n",
    "\t[acc_val, _, _, _, recall_val, auc_val, _], loss_val = test(val_loader)\n",
    "\tloss_array.append(loss_val)\n",
    "\t# print(f'loss_train: {loss_train:.4f}, acc_train: {acc_train:.4f},'\n",
    "\t# \t  f' recall_train: {recall_train:.4f}, auc_train: {auc_train:.4f},'\n",
    "\t# \t  f' loss_val: {loss_val:.4f}, acc_val: {acc_val:.4f},'\n",
    "\t# \t  f' recall_val: {recall_val:.4f}, auc_val: {auc_val:.4f}')\n",
    "\n",
    "\n",
    "[acc, f1_macro, f1_micro, precision, recall, auc, ap], test_loss = test(test_loader)\n",
    "print(f'Test set results: acc: {acc:.4f}, f1_macro: {f1_macro:.4f}, f1_micro: {f1_micro:.4f}, '\n",
    "\t  f'precision: {precision:.4f}, recall: {recall:.4f}, auc: {auc:.4f}, ap: {ap:.4f}')"
   ],
   "metadata": {
    "collapsed": false,
    "pycharm": {
     "name": "#%%\n"
    }
   }
  },
  {
   "cell_type": "code",
   "execution_count": 91,
   "outputs": [
    {
     "name": "stdout",
     "output_type": "stream",
     "text": [
      "30\n",
      "30\n"
     ]
    }
   ],
   "source": [
    "print(len(train_loss))\n",
    "print(len(loss_array))"
   ],
   "metadata": {
    "collapsed": false,
    "pycharm": {
     "name": "#%%\n"
    }
   }
  },
  {
   "cell_type": "code",
   "execution_count": 92,
   "outputs": [
    {
     "data": {
      "text/plain": "<Figure size 640x480 with 1 Axes>",
      "image/png": "[encoded data removed]"
     },
     "metadata": {},
     "output_type": "display_data"
    }
   ],
   "source": [
    "# visualize the train and test loss\n",
    "# create array for x values for plotting train\n",
    "epochs_array = list(range(epochs))\n",
    "title = f'Loss vs Epochs lr={lr}'\n",
    "# Graph the test and train data\n",
    "fig = plt.figure()\n",
    "axs = fig.add_subplot(1,1,1)\n",
    "plt.plot(epochs_array, train_loss, color='b', label=\"Training Loss\")\n",
    "plt.plot(epochs_array, loss_array, '--', color='orange', label='Testing Loss')\n",
    "axs.set_ylabel('Loss')\n",
    "axs.set_xlabel('Training Epoch')\n",
    "axs.set_title(f\"{title}\")\n",
    "axs.legend()\n",
    "fig.savefig(f'{title}.png')\n",
    "\n"
   ],
   "metadata": {
    "collapsed": false,
    "pycharm": {
     "name": "#%%\n"
    }
   }
  },
  {
   "cell_type": "code",
   "execution_count": 93,
   "outputs": [],
   "source": [
    "# Save model\n",
    "save_path = 'gnn_model.pth'\n",
    "torch.save(model.state_dict(), save_path)"
   ],
   "metadata": {
    "collapsed": false,
    "pycharm": {
     "name": "#%%\n"
    }
   }
  },
  {
   "cell_type": "code",
   "execution_count": null,
   "outputs": [],
   "source": [],
   "metadata": {
    "collapsed": false,
    "pycharm": {
     "name": "#%%\n"
    }
   }
  }
 ],
 "metadata": {
  "kernelspec": {
   "display_name": "Python 3",
   "language": "python",
   "name": "python3"
  },
  "language_info": {
   "codemirror_mode": {
    "name": "ipython",
    "version": 2
   },
   "file_extension": ".py",
   "mimetype": "text/x-python",
   "name": "python",
   "nbconvert_exporter": "python",
   "pygments_lexer": "ipython2",
   "version": "2.7.6"
  }
 },
 "nbformat": 4,
 "nbformat_minor": 0
}